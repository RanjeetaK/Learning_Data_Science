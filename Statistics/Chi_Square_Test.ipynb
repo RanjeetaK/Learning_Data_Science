{
 "cells": [
  {
   "cell_type": "code",
   "execution_count": 1,
   "id": "798ded85-7b3c-4587-92a9-a28fde7a7b8f",
   "metadata": {},
   "outputs": [],
   "source": [
    "import scipy.stats as stat\n",
    "import numpy as np"
   ]
  },
  {
   "cell_type": "code",
   "execution_count": 2,
   "id": "2e503f26-c2d1-4658-9f0b-d52415a57a81",
   "metadata": {},
   "outputs": [],
   "source": [
    "## No. of hours student studies daily in a weekly basis\n",
    "## Data for mon, tues, wed, Thur, Fri, Sat, Sun\n",
    "expected_data = [8,6,7,9,6,9,7]\n",
    "observed_data = [7,8,6,9,9,6,7]"
   ]
  },
  {
   "cell_type": "code",
   "execution_count": 3,
   "id": "dec20742-0544-4517-b812-8614bb2cf7e8",
   "metadata": {},
   "outputs": [
    {
     "data": {
      "text/plain": [
       "True"
      ]
     },
     "execution_count": 3,
     "metadata": {},
     "output_type": "execute_result"
    }
   ],
   "source": [
    "sum(expected_data) == sum(observed_data)"
   ]
  },
  {
   "cell_type": "code",
   "execution_count": 4,
   "id": "416c59cc-bc12-4918-9f2e-303bead942f4",
   "metadata": {},
   "outputs": [],
   "source": [
    "## Chi Square Goodness of Fit"
   ]
  },
  {
   "cell_type": "code",
   "execution_count": 5,
   "id": "47d34d81-3496-41d3-82eb-53b07fbca69c",
   "metadata": {},
   "outputs": [],
   "source": [
    "chisquare_test_statistics, p_value = stat.chisquare(observed_data, expected_data)"
   ]
  },
  {
   "cell_type": "code",
   "execution_count": 6,
   "id": "dc78d4d8-ec2b-4f2f-8d29-7ac646c8b24d",
   "metadata": {},
   "outputs": [
    {
     "data": {
      "text/plain": [
       "3.4345238095238093"
      ]
     },
     "execution_count": 6,
     "metadata": {},
     "output_type": "execute_result"
    }
   ],
   "source": [
    "chisquare_test_statistics"
   ]
  },
  {
   "cell_type": "code",
   "execution_count": 7,
   "id": "0fa9ac7f-09ba-4354-84f1-225943eae6db",
   "metadata": {},
   "outputs": [
    {
     "data": {
      "text/plain": [
       "0.7526596580922865"
      ]
     },
     "execution_count": 7,
     "metadata": {},
     "output_type": "execute_result"
    }
   ],
   "source": [
    "p_value"
   ]
  },
  {
   "cell_type": "code",
   "execution_count": 9,
   "id": "324892fa-fe67-4d7e-a209-cb2d32433cd0",
   "metadata": {},
   "outputs": [],
   "source": [
    "## find the critical value\n",
    "significance = 0.05\n",
    "dof = len(observed_data) - 1\n",
    "critical_value = stat.chi2.ppf(1-significance,dof)"
   ]
  },
  {
   "cell_type": "code",
   "execution_count": 10,
   "id": "41266eb0-7733-461a-aa77-9a2ac39d34c7",
   "metadata": {},
   "outputs": [
    {
     "data": {
      "text/plain": [
       "12.591587243743977"
      ]
     },
     "execution_count": 10,
     "metadata": {},
     "output_type": "execute_result"
    }
   ],
   "source": [
    "critical_value"
   ]
  },
  {
   "cell_type": "code",
   "execution_count": 11,
   "id": "a2f6f158-48b4-4a1b-a6bd-554da6c889d4",
   "metadata": {},
   "outputs": [
    {
     "name": "stdout",
     "output_type": "stream",
     "text": [
      "Null Hypothesis Accepted\n"
     ]
    }
   ],
   "source": [
    "if chisquare_test_statistics > critical_value:\n",
    "    print('Null Hypothesis Rejected')\n",
    "else:\n",
    "    print('Null Hypothesis Accepted')    "
   ]
  },
  {
   "cell_type": "code",
   "execution_count": null,
   "id": "ac4d3925-9efa-41c8-ad48-4a584ba00cef",
   "metadata": {},
   "outputs": [],
   "source": []
  }
 ],
 "metadata": {
  "kernelspec": {
   "display_name": "Python 3 (ipykernel)",
   "language": "python",
   "name": "python3"
  },
  "language_info": {
   "codemirror_mode": {
    "name": "ipython",
    "version": 3
   },
   "file_extension": ".py",
   "mimetype": "text/x-python",
   "name": "python",
   "nbconvert_exporter": "python",
   "pygments_lexer": "ipython3",
   "version": "3.10.8"
  }
 },
 "nbformat": 4,
 "nbformat_minor": 5
}
