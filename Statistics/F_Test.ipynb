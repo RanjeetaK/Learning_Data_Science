{
 "cells": [
  {
   "cell_type": "code",
   "execution_count": 1,
   "id": "95dc0567-7367-464d-b524-c339f8981a54",
   "metadata": {},
   "outputs": [],
   "source": [
    "## Evidence to say that the two population variances are not equal.\n",
    "## Check we come to conclusion whether one worker is better than the other"
   ]
  },
  {
   "cell_type": "code",
   "execution_count": 2,
   "id": "a2980d8e-1643-48bc-8d63-810a9939f6b9",
   "metadata": {},
   "outputs": [],
   "source": [
    "worker1 = [18,19,22, 25,27,28, 41,45,51,55]\n",
    "worker2 = [14,15,15,17,18,22,25,25,27,34]\n"
   ]
  },
  {
   "cell_type": "code",
   "execution_count": 3,
   "id": "c781fd80-bce0-4846-8068-bf962b941435",
   "metadata": {},
   "outputs": [],
   "source": [
    "##import the F test statistics\n",
    "import numpy as np\n",
    "f_test = np.var(worker1)/np.var(worker2)"
   ]
  },
  {
   "cell_type": "code",
   "execution_count": 4,
   "id": "5c8dc8a9-d519-4a51-96c4-65d7a2ae7826",
   "metadata": {},
   "outputs": [
    {
     "data": {
      "text/plain": [
       "4.387122002085506"
      ]
     },
     "execution_count": 4,
     "metadata": {},
     "output_type": "execute_result"
    }
   ],
   "source": [
    "f_test"
   ]
  },
  {
   "cell_type": "code",
   "execution_count": 6,
   "id": "445a55ea-aa90-4edd-bb47-d0d8187bb04c",
   "metadata": {},
   "outputs": [],
   "source": [
    "## Degree of freedom\n",
    "df1 = len(worker1)-1\n",
    "df2 = len(worker2)-1\n",
    "significance_value = 0.05"
   ]
  },
  {
   "cell_type": "code",
   "execution_count": 7,
   "id": "863e00c3-c7f8-4563-9cf6-9e93fcf1b0d0",
   "metadata": {},
   "outputs": [],
   "source": [
    "import scipy.stats as stat\n",
    "critical_value = stat.f.ppf(q = 1-significance_value, dfn = df1, dfd = df2)"
   ]
  },
  {
   "cell_type": "code",
   "execution_count": 8,
   "id": "28bd15ed-7605-4781-96e2-481e274ed371",
   "metadata": {},
   "outputs": [
    {
     "name": "stdout",
     "output_type": "stream",
     "text": [
      "Null Hypothesis Rejected\n"
     ]
    }
   ],
   "source": [
    "if f_test > critical_value:\n",
    "    print('Null Hypothesis Rejected')\n",
    "else:\n",
    "    print('Null Hypothesis Accepted')  "
   ]
  },
  {
   "cell_type": "code",
   "execution_count": null,
   "id": "cb2d8bdd-fbe9-4a8d-b1f8-ec024054fdea",
   "metadata": {},
   "outputs": [],
   "source": []
  }
 ],
 "metadata": {
  "kernelspec": {
   "display_name": "Python 3 (ipykernel)",
   "language": "python",
   "name": "python3"
  },
  "language_info": {
   "codemirror_mode": {
    "name": "ipython",
    "version": 3
   },
   "file_extension": ".py",
   "mimetype": "text/x-python",
   "name": "python",
   "nbconvert_exporter": "python",
   "pygments_lexer": "ipython3",
   "version": "3.10.8"
  }
 },
 "nbformat": 4,
 "nbformat_minor": 5
}
