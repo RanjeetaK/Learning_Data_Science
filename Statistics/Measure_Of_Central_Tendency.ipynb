{
 "cells": [
  {
   "cell_type": "markdown",
   "id": "74f61cb9-82af-48d6-aea1-a42316d8241b",
   "metadata": {},
   "source": [
    "## Measure of Central Tendency"
   ]
  },
  {
   "cell_type": "code",
   "execution_count": 2,
   "id": "5e70b9cc-9b4a-41d2-a885-a4c00a230dcd",
   "metadata": {},
   "outputs": [],
   "source": [
    "## mean\n",
    "import pandas as pd\n",
    "import numpy as np"
   ]
  },
  {
   "cell_type": "code",
   "execution_count": 3,
   "id": "156c1931-b824-45dd-a30e-43e25d608b17",
   "metadata": {},
   "outputs": [],
   "source": [
    "age = [12,13,14,15,20,26,26,34,22,35,55,17,54,12,12,12]"
   ]
  },
  {
   "cell_type": "code",
   "execution_count": 7,
   "id": "bc38196a-5a44-4bec-9fe7-ca2bb67e0d7a",
   "metadata": {},
   "outputs": [
    {
     "data": {
      "text/plain": [
       "14.8"
      ]
     },
     "execution_count": 7,
     "metadata": {},
     "output_type": "execute_result"
    }
   ],
   "source": [
    "np.mean(age)"
   ]
  },
  {
   "cell_type": "code",
   "execution_count": 6,
   "id": "16f9cc14-5dc2-4da8-b770-6c077b3ef201",
   "metadata": {},
   "outputs": [
    {
     "data": {
      "text/plain": [
       "14.0"
      ]
     },
     "execution_count": 6,
     "metadata": {},
     "output_type": "execute_result"
    }
   ],
   "source": [
    "np.median(age)"
   ]
  },
  {
   "cell_type": "code",
   "execution_count": 8,
   "id": "2ac521db-2fcb-428d-ba5e-8511fa9631b5",
   "metadata": {},
   "outputs": [],
   "source": [
    "age = [12,13,14,15,20,26,26,34,22,35,55,17,54,12,12,12,1200]"
   ]
  },
  {
   "cell_type": "code",
   "execution_count": 11,
   "id": "04b98ef4-ef42-41f2-9050-80b1d6d86115",
   "metadata": {},
   "outputs": [
    {
     "data": {
      "text/plain": [
       "92.88235294117646"
      ]
     },
     "execution_count": 11,
     "metadata": {},
     "output_type": "execute_result"
    }
   ],
   "source": [
    "np.mean(age)# We can not depend on mean in case of outlier, thus we should go for median in case of outliers during EDA"
   ]
  },
  {
   "cell_type": "code",
   "execution_count": 10,
   "id": "bd781e65-1d38-4248-a879-2e9418e1f3ac",
   "metadata": {},
   "outputs": [
    {
     "data": {
      "text/plain": [
       "20.0"
      ]
     },
     "execution_count": 10,
     "metadata": {},
     "output_type": "execute_result"
    }
   ],
   "source": [
    "np.median(age)"
   ]
  },
  {
   "cell_type": "code",
   "execution_count": 12,
   "id": "d5838287-0016-45c5-9af4-15af4c7bb112",
   "metadata": {},
   "outputs": [],
   "source": [
    "## mode"
   ]
  },
  {
   "cell_type": "code",
   "execution_count": 13,
   "id": "198887b3-f717-4e5e-9189-50cc373d1b67",
   "metadata": {},
   "outputs": [],
   "source": [
    "from scipy import stats"
   ]
  },
  {
   "cell_type": "code",
   "execution_count": 14,
   "id": "da2272f9-2fca-4389-87da-663c01a50c84",
   "metadata": {},
   "outputs": [
    {
     "name": "stderr",
     "output_type": "stream",
     "text": [
      "/tmp/ipykernel_126/3538745486.py:1: FutureWarning: Unlike other reduction functions (e.g. `skew`, `kurtosis`), the default behavior of `mode` typically preserves the axis it acts along. In SciPy 1.11.0, this behavior will change: the default value of `keepdims` will become False, the `axis` over which the statistic is taken will be eliminated, and the value None will no longer be accepted. Set `keepdims` to True or False to avoid this warning.\n",
      "  stats.mode (age)\n"
     ]
    },
    {
     "data": {
      "text/plain": [
       "ModeResult(mode=array([12]), count=array([4]))"
      ]
     },
     "execution_count": 14,
     "metadata": {},
     "output_type": "execute_result"
    }
   ],
   "source": [
    "stats.mode (age)"
   ]
  },
  {
   "cell_type": "code",
   "execution_count": null,
   "id": "5a382c8f-9747-49c4-b21a-bc7d12a31faf",
   "metadata": {},
   "outputs": [],
   "source": []
  }
 ],
 "metadata": {
  "kernelspec": {
   "display_name": "Python 3 (ipykernel)",
   "language": "python",
   "name": "python3"
  },
  "language_info": {
   "codemirror_mode": {
    "name": "ipython",
    "version": 3
   },
   "file_extension": ".py",
   "mimetype": "text/x-python",
   "name": "python",
   "nbconvert_exporter": "python",
   "pygments_lexer": "ipython3",
   "version": "3.10.8"
  }
 },
 "nbformat": 4,
 "nbformat_minor": 5
}
