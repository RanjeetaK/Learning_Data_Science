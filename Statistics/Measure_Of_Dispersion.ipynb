{
 "cells": [
  {
   "cell_type": "markdown",
   "id": "3cce26e8-95c9-41e9-a1b9-90982519cbf4",
   "metadata": {},
   "source": [
    "## Measure of Dispersion\n"
   ]
  },
  {
   "cell_type": "markdown",
   "id": "05af84f8-9475-4e2f-b789-129dad7d851b",
   "metadata": {},
   "source": [
    "### Variance and Statndard Deviation"
   ]
  },
  {
   "cell_type": "code",
   "execution_count": 1,
   "id": "85073828-948d-4af2-ab7f-10cbf32c0572",
   "metadata": {},
   "outputs": [],
   "source": [
    "ages_list = [23,43,33,65,33,64,54,22,55]"
   ]
  },
  {
   "cell_type": "code",
   "execution_count": 2,
   "id": "ce24fe42-c0a2-45f9-99fb-d281adf6e73e",
   "metadata": {},
   "outputs": [],
   "source": [
    "import numpy as np"
   ]
  },
  {
   "cell_type": "code",
   "execution_count": 4,
   "id": "89947a37-9ad5-44fb-a2a7-b90da42abfe4",
   "metadata": {},
   "outputs": [
    {
     "data": {
      "text/plain": [
       "43.55555555555556"
      ]
     },
     "execution_count": 4,
     "metadata": {},
     "output_type": "execute_result"
    }
   ],
   "source": [
    "mean = np.mean(ages_list)\n",
    "mean"
   ]
  },
  {
   "cell_type": "code",
   "execution_count": 5,
   "id": "ff63e1d5-5ed6-4444-afaf-9b1b6bbe70d2",
   "metadata": {},
   "outputs": [
    {
     "data": {
      "text/plain": [
       "247.5802469135802"
      ]
     },
     "execution_count": 5,
     "metadata": {},
     "output_type": "execute_result"
    }
   ],
   "source": [
    "var = np.var(ages_list)\n",
    "var"
   ]
  },
  {
   "cell_type": "code",
   "execution_count": 8,
   "id": "b8b75321-3624-4b6d-963a-0f4ea94e5509",
   "metadata": {},
   "outputs": [
    {
     "data": {
      "text/plain": [
       "15.734682930188972"
      ]
     },
     "execution_count": 8,
     "metadata": {},
     "output_type": "execute_result"
    }
   ],
   "source": [
    "std = np.std(ages_list)\n",
    "std"
   ]
  },
  {
   "cell_type": "code",
   "execution_count": 9,
   "id": "d1570a25-c936-46ed-a1db-dc66e308d455",
   "metadata": {},
   "outputs": [],
   "source": [
    "import pandas as pd"
   ]
  },
  {
   "cell_type": "code",
   "execution_count": 10,
   "id": "617fcab2-e5f4-4b5b-8417-9ee96a4f98ae",
   "metadata": {},
   "outputs": [],
   "source": [
    "data = [[10,12,13],[32,23,45], [32,22,21]]"
   ]
  },
  {
   "cell_type": "code",
   "execution_count": 11,
   "id": "b14338b8-3c73-46ca-b9cb-21b99dcdfdc7",
   "metadata": {},
   "outputs": [
    {
     "data": {
      "text/plain": [
       "[[10, 12, 13], [32, 23, 45], [32, 22, 21]]"
      ]
     },
     "execution_count": 11,
     "metadata": {},
     "output_type": "execute_result"
    }
   ],
   "source": [
    "data"
   ]
  },
  {
   "cell_type": "code",
   "execution_count": 14,
   "id": "f45634f2-c2cf-4536-b316-403131787978",
   "metadata": {},
   "outputs": [],
   "source": [
    "df = pd.DataFrame(data, columns = ['A','B','C'])"
   ]
  },
  {
   "cell_type": "code",
   "execution_count": 15,
   "id": "ed07e505-0a3a-4ff2-a172-a724c8b7a882",
   "metadata": {},
   "outputs": [
    {
     "data": {
      "text/html": [
       "<div>\n",
       "<style scoped>\n",
       "    .dataframe tbody tr th:only-of-type {\n",
       "        vertical-align: middle;\n",
       "    }\n",
       "\n",
       "    .dataframe tbody tr th {\n",
       "        vertical-align: top;\n",
       "    }\n",
       "\n",
       "    .dataframe thead th {\n",
       "        text-align: right;\n",
       "    }\n",
       "</style>\n",
       "<table border=\"1\" class=\"dataframe\">\n",
       "  <thead>\n",
       "    <tr style=\"text-align: right;\">\n",
       "      <th></th>\n",
       "      <th>A</th>\n",
       "      <th>B</th>\n",
       "      <th>C</th>\n",
       "    </tr>\n",
       "  </thead>\n",
       "  <tbody>\n",
       "    <tr>\n",
       "      <th>0</th>\n",
       "      <td>10</td>\n",
       "      <td>12</td>\n",
       "      <td>13</td>\n",
       "    </tr>\n",
       "    <tr>\n",
       "      <th>1</th>\n",
       "      <td>32</td>\n",
       "      <td>23</td>\n",
       "      <td>45</td>\n",
       "    </tr>\n",
       "    <tr>\n",
       "      <th>2</th>\n",
       "      <td>32</td>\n",
       "      <td>22</td>\n",
       "      <td>21</td>\n",
       "    </tr>\n",
       "  </tbody>\n",
       "</table>\n",
       "</div>"
      ],
      "text/plain": [
       "    A   B   C\n",
       "0  10  12  13\n",
       "1  32  23  45\n",
       "2  32  22  21"
      ]
     },
     "execution_count": 15,
     "metadata": {},
     "output_type": "execute_result"
    }
   ],
   "source": [
    "df"
   ]
  },
  {
   "cell_type": "code",
   "execution_count": 20,
   "id": "ae1950c7-4843-406e-9526-2b84e26ac106",
   "metadata": {},
   "outputs": [
    {
     "data": {
      "text/plain": [
       "A    161.333333\n",
       "B     37.000000\n",
       "C    277.333333\n",
       "dtype: float64"
      ]
     },
     "execution_count": 20,
     "metadata": {},
     "output_type": "execute_result"
    }
   ],
   "source": [
    "df.var() ## column wise variance"
   ]
  },
  {
   "cell_type": "code",
   "execution_count": 21,
   "id": "2fd3cd10-1fb3-425f-85e7-163a7d1c3d74",
   "metadata": {},
   "outputs": [
    {
     "data": {
      "text/plain": [
       "0      2.333333\n",
       "1    122.333333\n",
       "2     37.000000\n",
       "dtype: float64"
      ]
     },
     "execution_count": 21,
     "metadata": {},
     "output_type": "execute_result"
    }
   ],
   "source": [
    "df.var(axis = 1) ## row wise variance"
   ]
  },
  {
   "cell_type": "code",
   "execution_count": null,
   "id": "7dfd2434-2156-4e70-8267-48d4221463c1",
   "metadata": {},
   "outputs": [],
   "source": []
  }
 ],
 "metadata": {
  "kernelspec": {
   "display_name": "Python 3 (ipykernel)",
   "language": "python",
   "name": "python3"
  },
  "language_info": {
   "codemirror_mode": {
    "name": "ipython",
    "version": 3
   },
   "file_extension": ".py",
   "mimetype": "text/x-python",
   "name": "python",
   "nbconvert_exporter": "python",
   "pygments_lexer": "ipython3",
   "version": "3.10.8"
  }
 },
 "nbformat": 4,
 "nbformat_minor": 5
}
