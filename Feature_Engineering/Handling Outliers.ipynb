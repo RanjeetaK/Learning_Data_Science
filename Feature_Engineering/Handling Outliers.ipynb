{
 "cells": [
  {
   "cell_type": "markdown",
   "id": "daf8dfe8-6569-4ded-8108-d97c34380467",
   "metadata": {},
   "source": [
    "## 5 Number Summary and Box Plot"
   ]
  },
  {
   "cell_type": "code",
   "execution_count": 1,
   "id": "7a5ffc21-6b09-4333-b1c1-2b0b6456c953",
   "metadata": {},
   "outputs": [],
   "source": [
    "## Minimum, Maximum, Q1, Q2, Q3, IQR"
   ]
  },
  {
   "cell_type": "code",
   "execution_count": 2,
   "id": "46d0e7ed-b0cf-41d2-912b-7ad5ec01c41c",
   "metadata": {},
   "outputs": [],
   "source": [
    "import numpy as np"
   ]
  },
  {
   "cell_type": "code",
   "execution_count": 3,
   "id": "28222e72-9f31-4147-8b1b-383643f78653",
   "metadata": {},
   "outputs": [],
   "source": [
    "lst_marks = [45, 32, 56,75, 89, 54, 32, 89, 90, 87, 67, 54, 45, 98, 99, 67, 74]"
   ]
  },
  {
   "cell_type": "code",
   "execution_count": 4,
   "id": "034cba7f-d1db-4bb1-9ff0-1daebfa488c6",
   "metadata": {},
   "outputs": [],
   "source": [
    "Minimum, Q1, Median, Q3, Maximum = np.quantile(lst_marks,[0, 0.25, 0.50, 0.75, 1.0])"
   ]
  },
  {
   "cell_type": "code",
   "execution_count": 5,
   "id": "9c6bd41c-8622-4075-b3c7-ea1666638a14",
   "metadata": {},
   "outputs": [
    {
     "data": {
      "text/plain": [
       "32.0"
      ]
     },
     "execution_count": 5,
     "metadata": {},
     "output_type": "execute_result"
    }
   ],
   "source": [
    "Minimum"
   ]
  },
  {
   "cell_type": "code",
   "execution_count": 6,
   "id": "4b34097e-4e9a-4b8f-83e7-d048f2c3b689",
   "metadata": {},
   "outputs": [
    {
     "data": {
      "text/plain": [
       "54.0"
      ]
     },
     "execution_count": 6,
     "metadata": {},
     "output_type": "execute_result"
    }
   ],
   "source": [
    "Q1"
   ]
  },
  {
   "cell_type": "code",
   "execution_count": 7,
   "id": "f4f363f3-0656-443e-9ca2-b91b1c52cfab",
   "metadata": {},
   "outputs": [
    {
     "data": {
      "text/plain": [
       "67.0"
      ]
     },
     "execution_count": 7,
     "metadata": {},
     "output_type": "execute_result"
    }
   ],
   "source": [
    "Median"
   ]
  },
  {
   "cell_type": "code",
   "execution_count": 8,
   "id": "0e947174-a639-4cd5-a990-c19eb645a2c6",
   "metadata": {},
   "outputs": [
    {
     "data": {
      "text/plain": [
       "89.0"
      ]
     },
     "execution_count": 8,
     "metadata": {},
     "output_type": "execute_result"
    }
   ],
   "source": [
    "Q3"
   ]
  },
  {
   "cell_type": "code",
   "execution_count": 9,
   "id": "29d44a6e-e7fb-4c5f-8a33-d655131a1303",
   "metadata": {},
   "outputs": [
    {
     "data": {
      "text/plain": [
       "99.0"
      ]
     },
     "execution_count": 9,
     "metadata": {},
     "output_type": "execute_result"
    }
   ],
   "source": [
    "Maximum"
   ]
  },
  {
   "cell_type": "code",
   "execution_count": 10,
   "id": "a54e7420-73a4-4a43-920b-be760c64be51",
   "metadata": {},
   "outputs": [
    {
     "data": {
      "text/plain": [
       "35.0"
      ]
     },
     "execution_count": 10,
     "metadata": {},
     "output_type": "execute_result"
    }
   ],
   "source": [
    "IQR = Q3-Q1\n",
    "IQR"
   ]
  },
  {
   "cell_type": "code",
   "execution_count": 11,
   "id": "b80aaa4f-eb33-4115-9740-fd3e766a57b5",
   "metadata": {},
   "outputs": [
    {
     "data": {
      "text/plain": [
       "1.5"
      ]
     },
     "execution_count": 11,
     "metadata": {},
     "output_type": "execute_result"
    }
   ],
   "source": [
    "lower_fence = Q1 - 1.5*IQR\n",
    "lower_fence"
   ]
  },
  {
   "cell_type": "code",
   "execution_count": 12,
   "id": "0ddd702d-4207-4039-a342-cbac4e4348fe",
   "metadata": {},
   "outputs": [
    {
     "data": {
      "text/plain": [
       "141.5"
      ]
     },
     "execution_count": 12,
     "metadata": {},
     "output_type": "execute_result"
    }
   ],
   "source": [
    "higher_fence = Q3 + 1.5*IQR\n",
    "higher_fence"
   ]
  },
  {
   "cell_type": "code",
   "execution_count": 13,
   "id": "a30226dc-252f-42d9-bd55-aeec2279cdeb",
   "metadata": {},
   "outputs": [
    {
     "data": {
      "text/plain": [
       "<AxesSubplot: >"
      ]
     },
     "execution_count": 13,
     "metadata": {},
     "output_type": "execute_result"
    },
    {
     "data": {
      "image/png": "[encoded data removed]",
      "text/plain": [
       "<Figure size 640x480 with 1 Axes>"
      ]
     },
     "metadata": {},
     "output_type": "display_data"
    }
   ],
   "source": [
    "import seaborn as sns\n",
    "sns.boxplot(lst_marks)"
   ]
  },
  {
   "cell_type": "code",
   "execution_count": 15,
   "id": "b31f9df4-e759-4f1b-88f7-52bfe235ec4f",
   "metadata": {},
   "outputs": [
    {
     "data": {
      "text/plain": [
       "<AxesSubplot: >"
      ]
     },
     "execution_count": 15,
     "metadata": {},
     "output_type": "execute_result"
    },
    {
     "data": {
      "image/png": "[encoded data removed]",
      "text/plain": [
       "<Figure size 640x480 with 1 Axes>"
      ]
     },
     "metadata": {},
     "output_type": "display_data"
    }
   ],
   "source": [
    "lst_marks2 = [-34, -40, 45, 32, 56,75, 89, 54, 32, 89, 90, 87, 67, 54, 45, 98, 99, 67, 74,150, 170]\n",
    "sns.boxplot(lst_marks2)"
   ]
  },
  {
   "cell_type": "code",
   "execution_count": null,
   "id": "d3594a88-3bce-4e1a-8519-c0f44272931a",
   "metadata": {},
   "outputs": [],
   "source": []
  }
 ],
 "metadata": {
  "kernelspec": {
   "display_name": "Python 3 (ipykernel)",
   "language": "python",
   "name": "python3"
  },
  "language_info": {
   "codemirror_mode": {
    "name": "ipython",
    "version": 3
   },
   "file_extension": ".py",
   "mimetype": "text/x-python",
   "name": "python",
   "nbconvert_exporter": "python",
   "pygments_lexer": "ipython3",
   "version": "3.10.8"
  }
 },
 "nbformat": 4,
 "nbformat_minor": 5
}
