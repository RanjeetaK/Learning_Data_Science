{
 "cells": [
  {
   "cell_type": "code",
   "execution_count": 1,
   "id": "09fd3bd5-3c81-45c6-b6eb-292a1e4f158b",
   "metadata": {},
   "outputs": [
    {
     "data": {
      "text/plain": [
       "0"
      ]
     },
     "execution_count": 1,
     "metadata": {},
     "output_type": "execute_result"
    }
   ],
   "source": [
    "int()"
   ]
  },
  {
   "cell_type": "code",
   "execution_count": 4,
   "id": "52d317be-11ee-45a3-9cc0-c10efd3c5cfe",
   "metadata": {},
   "outputs": [
    {
     "data": {
      "text/plain": [
       "1"
      ]
     },
     "execution_count": 4,
     "metadata": {},
     "output_type": "execute_result"
    }
   ],
   "source": [
    "int(1)"
   ]
  },
  {
   "cell_type": "code",
   "execution_count": 5,
   "id": "27a8f3a4-c89b-4a62-8573-c00c799a9e79",
   "metadata": {},
   "outputs": [
    {
     "name": "stdout",
     "output_type": "stream",
     "text": [
      "Hello world\n"
     ]
    }
   ],
   "source": [
    "print(\"Hello world\")"
   ]
  },
  {
   "cell_type": "code",
   "execution_count": null,
   "id": "6a872fab-2bc5-4f41-9fb4-d07ce9ec69c5",
   "metadata": {},
   "outputs": [],
   "source": []
  },
  {
   "cell_type": "code",
   "execution_count": 7,
   "id": "ee22200d-b00f-4336-8690-c86d32bb17b4",
   "metadata": {},
   "outputs": [],
   "source": [
    "age = 32"
   ]
  },
  {
   "cell_type": "code",
   "execution_count": 10,
   "id": "83e08fcc-ec53-459e-8c13-07b61bf8e575",
   "metadata": {},
   "outputs": [
    {
     "name": "stdout",
     "output_type": "stream",
     "text": [
      "My age is  32\n"
     ]
    }
   ],
   "source": [
    "print(\"My age is \", age)"
   ]
  },
  {
   "cell_type": "code",
   "execution_count": 15,
   "id": "3bc45c1a-abbb-44d1-99e1-415368f4a309",
   "metadata": {},
   "outputs": [
    {
     "name": "stdout",
     "output_type": "stream",
     "text": [
      "My age is : 32\n"
     ]
    }
   ],
   "source": [
    "#f string\n",
    "print(f\"My age is : {age}\")"
   ]
  },
  {
   "cell_type": "code",
   "execution_count": 18,
   "id": "56a3bc93-ca2a-491b-b73c-ec22b214b288",
   "metadata": {},
   "outputs": [
    {
     "name": "stdout",
     "output_type": "stream",
     "text": [
      "My name is Krish and age is 32\n"
     ]
    }
   ],
   "source": [
    "## format()\n",
    "name = \"Krish\"\n",
    "age = 32\n",
    "print(\"My name is {} and age is {}\". format( name,age))"
   ]
  },
  {
   "cell_type": "code",
   "execution_count": 19,
   "id": "e05d7c45-0786-41b5-873c-2d9cf1af4118",
   "metadata": {},
   "outputs": [
    {
     "name": "stdout",
     "output_type": "stream",
     "text": [
      "My name is Krish and age is 32\n"
     ]
    }
   ],
   "source": [
    "#placeholder\n",
    "print(\"My name is {firstname} and age is {firstage}\". format(firstname =  name, firstage= age))"
   ]
  },
  {
   "cell_type": "code",
   "execution_count": 21,
   "id": "7e0000d2-20b7-42f3-917d-9e95b23e6716",
   "metadata": {},
   "outputs": [],
   "source": [
    "degree =  \"BE\""
   ]
  },
  {
   "cell_type": "code",
   "execution_count": 22,
   "id": "489bf453-8076-4426-b41e-87771eeb92d6",
   "metadata": {},
   "outputs": [
    {
     "name": "stdout",
     "output_type": "stream",
     "text": [
      "My name is Krish and age is 32 and degree is BE\n"
     ]
    }
   ],
   "source": [
    "#placeholder\n",
    "print(\"My name is {firstname} and age is {firstage} and degree is {firstdegree}\". format(firstname =  name, firstage= age, firstdegree = degree))"
   ]
  },
  {
   "cell_type": "code",
   "execution_count": 24,
   "id": "1c528517-c3a9-45d5-b357-c37f87a90c65",
   "metadata": {},
   "outputs": [
    {
     "name": "stdout",
     "output_type": "stream",
     "text": [
      "My name is Krish and age is 32 and degree is BE\n"
     ]
    }
   ],
   "source": [
    "#fstring\n",
    "print(f\"My name is {name} and age is {age} and degree is {degree}\")"
   ]
  },
  {
   "cell_type": "markdown",
   "id": "31a70a77-a836-4621-a17d-b37f8d0f456b",
   "metadata": {},
   "source": [
    "## Control flow\n",
    "### Decision Making Statements\n",
    "if\n",
    "elif\n",
    "if else\n",
    "Nested if\n",
    "Single statement Suites"
   ]
  },
  {
   "cell_type": "code",
   "execution_count": 25,
   "id": "c0f3d1a1-bea1-41f3-bef6-fe9f1b0de17e",
   "metadata": {},
   "outputs": [
    {
     "name": "stdout",
     "output_type": "stream",
     "text": [
      "You are eligible to vote\n"
     ]
    }
   ],
   "source": [
    "# If statements\n",
    "age = 18\n",
    "if age >= 18:\n",
    "    print(\"You are eligible to vote\")"
   ]
  },
  {
   "cell_type": "code",
   "execution_count": 31,
   "id": "fa156226-5037-4e7b-a968-3847bbdeb9ca",
   "metadata": {},
   "outputs": [
    {
     "name": "stdin",
     "output_type": "stream",
     "text": [
      " 32\n"
     ]
    },
    {
     "name": "stdout",
     "output_type": "stream",
     "text": [
      "You are young blood\n"
     ]
    }
   ],
   "source": [
    "age1 = int(input())\n",
    "if age1>= 18 and age1 <= 45:\n",
    "    print(\"You are young blood\")\n",
    "    "
   ]
  },
  {
   "cell_type": "code",
   "execution_count": 32,
   "id": "440aa270-e455-45b6-b8fe-b1cecfed3ff7",
   "metadata": {},
   "outputs": [
    {
     "name": "stdin",
     "output_type": "stream",
     "text": [
      "Enter the age 32\n"
     ]
    },
    {
     "name": "stdout",
     "output_type": "stream",
     "text": [
      "You are young blood\n"
     ]
    }
   ],
   "source": [
    "age1 = int(input(\"Enter the age\"))\n",
    "if age1>= 18 and age1 <= 45:\n",
    "    print(\"You are young blood\")"
   ]
  },
  {
   "cell_type": "code",
   "execution_count": 33,
   "id": "0281024f-f7f9-47e9-a314-7bd13dfe0a2a",
   "metadata": {},
   "outputs": [
    {
     "name": "stdin",
     "output_type": "stream",
     "text": [
      "Enter the age 65\n"
     ]
    },
    {
     "name": "stdout",
     "output_type": "stream",
     "text": [
      "Thank you, we will let you know\n"
     ]
    }
   ],
   "source": [
    "age1 = int(input(\"Enter the age\"))\n",
    "if age1>= 18 and age1 <= 45:\n",
    "    print(\"You are young blood\")\n",
    "else:\n",
    "    print(\"Thank you, we will let you know\")"
   ]
  },
  {
   "cell_type": "code",
   "execution_count": 42,
   "id": "1c0f37d1-bb0b-43ee-ac5a-27c5d9c6e79a",
   "metadata": {},
   "outputs": [
    {
     "name": "stdin",
     "output_type": "stream",
     "text": [
      "Enter the price 5000\n"
     ]
    },
    {
     "name": "stdout",
     "output_type": "stream",
     "text": [
      "You get 10% off on 5000\n",
      "You pay 4500\n"
     ]
    }
   ],
   "source": [
    "price = int(input('Enter the price'))\n",
    "if price > 1000:\n",
    "    print(\"You get 10% off on\",price)\n",
    "    discounted_price = price*(1-0.1)  \n",
    "    print(\"You pay\",int(discounted_price))\n",
    "else:\n",
    "    print(\"You get 30% off\", price)\n",
    "    discounted_price = price*(1-0.3) \n",
    "    print(\"You pay\",int(discounted_price))\n"
   ]
  },
  {
   "cell_type": "code",
   "execution_count": 44,
   "id": "8d207e8a-4ad3-482b-b472-34ba117760bc",
   "metadata": {},
   "outputs": [
    {
     "name": "stdin",
     "output_type": "stream",
     "text": [
      "Enter the price 30\n"
     ]
    },
    {
     "name": "stdout",
     "output_type": "stream",
     "text": [
      "You get 40% off 30\n",
      "You pay 18\n"
     ]
    }
   ],
   "source": [
    "price = int(input('Enter the price'))\n",
    "if price > 3000:\n",
    "    print(\"You get 20% off on\",price)\n",
    "    discounted_price = price*(1-0.2)  \n",
    "    print(\"You pay\",int(discounted_price))\n",
    "elif price >=2000 and price <= 3000:\n",
    "    print(\"You get 30% off\", price)\n",
    "    discounted_price = price*(1-0.3) \n",
    "    print(\"You pay\",int(discounted_price))\n",
    "else:\n",
    "    print(\"You get 40% off\", price)\n",
    "    discounted_price = price*(1-0.4) \n",
    "    print(\"You pay\",int(discounted_price))"
   ]
  },
  {
   "cell_type": "code",
   "execution_count": 45,
   "id": "ee8575bf-e59c-416e-b37b-368d6f14df53",
   "metadata": {},
   "outputs": [
    {
     "name": "stdin",
     "output_type": "stream",
     "text": [
      "Enter the price 4565\n"
     ]
    },
    {
     "name": "stdout",
     "output_type": "stream",
     "text": [
      "You get 20% off on 4565\n",
      "You pay 3652\n"
     ]
    }
   ],
   "source": [
    "price = int(input('Enter the price'))\n",
    "if price > 3000:\n",
    "    print(\"You get 20% off on\",price)\n",
    "    discounted_price = price*(1-0.2)  \n",
    "    print(\"You pay\",int(discounted_price))\n",
    "elif price >=2000 and price <= 3000:\n",
    "    print(\"You get 30% off\", price)\n",
    "    discounted_price = price*(1-0.3) \n",
    "    print(\"You pay\",int(discounted_price))\n",
    "elif price >=100 and price <= 2000:\n",
    "    print(\"You get 40% off\", price)\n",
    "    discounted_price = price*(1-0.4) \n",
    "    print(\"You pay\",int(discounted_price))\n",
    "else:\n",
    "    print(\"Lets have tea\")"
   ]
  },
  {
   "cell_type": "code",
   "execution_count": 48,
   "id": "12c663e5-64d2-404e-abe9-2a77dbc6e4d6",
   "metadata": {},
   "outputs": [
    {
     "name": "stdin",
     "output_type": "stream",
     "text": [
      "Enter the price 2999\n"
     ]
    },
    {
     "name": "stdout",
     "output_type": "stream",
     "text": [
      "Congratulations, you get an additional gift, a suitcase and also\n",
      "You get 30% off 2999\n",
      "You pay 2099\n"
     ]
    }
   ],
   "source": [
    "price = int(input('Enter the price'))\n",
    "if price > 3000:\n",
    "    print(\"You get 20% off on\",price)\n",
    "    discounted_price = price*(1-0.2)  \n",
    "    print(\"You pay\",int(discounted_price))\n",
    "elif price >=2000 and price <= 3000:\n",
    "    if price == 2999:\n",
    "        print(\"Congratulations, you get an additional gift, a suitcase and also\")\n",
    "    print(\"You get 30% off\", price)\n",
    "    discounted_price = price*(1-0.3) \n",
    "    print(\"You pay\",int(discounted_price))\n",
    "elif price >=100 and price <= 2000:\n",
    "    print(\"You get 40% off\", price)\n",
    "    discounted_price = price*(1-0.4) \n",
    "    print(\"You pay\",int(discounted_price))\n",
    "else:\n",
    "    print(\"Lets have tea\")"
   ]
  },
  {
   "cell_type": "code",
   "execution_count": 50,
   "id": "756dfb11-ef86-41c2-ac8a-0a0a70995b12",
   "metadata": {},
   "outputs": [
    {
     "name": "stdin",
     "output_type": "stream",
     "text": [
      "Enter the number 33\n"
     ]
    },
    {
     "name": "stdout",
     "output_type": "stream",
     "text": [
      "Value is less than 999\n"
     ]
    }
   ],
   "source": [
    "##Single statements suites\n",
    "val = int(input(\"Enter the number\"))\n",
    "if(val <= 999): print('Value is less than 999')\n",
    "else:\n",
    "    print(\"Go Home\")"
   ]
  },
  {
   "cell_type": "code",
   "execution_count": null,
   "id": "0cc9cedb-1de4-4479-b99c-c3c70aa6f626",
   "metadata": {},
   "outputs": [],
   "source": []
  }
 ],
 "metadata": {
  "kernelspec": {
   "display_name": "Python 3 (ipykernel)",
   "language": "python",
   "name": "python3"
  },
  "language_info": {
   "codemirror_mode": {
    "name": "ipython",
    "version": 3
   },
   "file_extension": ".py",
   "mimetype": "text/x-python",
   "name": "python",
   "nbconvert_exporter": "python",
   "pygments_lexer": "ipython3",
   "version": "3.10.8"
  }
 },
 "nbformat": 4,
 "nbformat_minor": 5
}
