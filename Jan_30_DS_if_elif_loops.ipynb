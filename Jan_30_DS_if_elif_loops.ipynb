{
 "cells": [
  {
   "cell_type": "markdown",
   "id": "bd761e3e-c576-4096-b7a7-b4434f96e869",
   "metadata": {},
   "source": [
    "### Basics"
   ]
  },
  {
   "cell_type": "code",
   "execution_count": 1,
   "id": "09fd3bd5-3c81-45c6-b6eb-292a1e4f158b",
   "metadata": {},
   "outputs": [
    {
     "data": {
      "text/plain": [
       "0"
      ]
     },
     "execution_count": 1,
     "metadata": {},
     "output_type": "execute_result"
    }
   ],
   "source": [
    "int()"
   ]
  },
  {
   "cell_type": "code",
   "execution_count": 4,
   "id": "52d317be-11ee-45a3-9cc0-c10efd3c5cfe",
   "metadata": {},
   "outputs": [
    {
     "data": {
      "text/plain": [
       "1"
      ]
     },
     "execution_count": 4,
     "metadata": {},
     "output_type": "execute_result"
    }
   ],
   "source": [
    "int(1)"
   ]
  },
  {
   "cell_type": "code",
   "execution_count": 5,
   "id": "27a8f3a4-c89b-4a62-8573-c00c799a9e79",
   "metadata": {},
   "outputs": [
    {
     "name": "stdout",
     "output_type": "stream",
     "text": [
      "Hello world\n"
     ]
    }
   ],
   "source": [
    "print(\"Hello world\")"
   ]
  },
  {
   "cell_type": "code",
   "execution_count": 7,
   "id": "ee22200d-b00f-4336-8690-c86d32bb17b4",
   "metadata": {},
   "outputs": [],
   "source": [
    "age = 32"
   ]
  },
  {
   "cell_type": "code",
   "execution_count": 10,
   "id": "83e08fcc-ec53-459e-8c13-07b61bf8e575",
   "metadata": {},
   "outputs": [
    {
     "name": "stdout",
     "output_type": "stream",
     "text": [
      "My age is  32\n"
     ]
    }
   ],
   "source": [
    "print(\"My age is \", age)"
   ]
  },
  {
   "cell_type": "code",
   "execution_count": 15,
   "id": "3bc45c1a-abbb-44d1-99e1-415368f4a309",
   "metadata": {},
   "outputs": [
    {
     "name": "stdout",
     "output_type": "stream",
     "text": [
      "My age is : 32\n"
     ]
    }
   ],
   "source": [
    "#f string\n",
    "print(f\"My age is : {age}\")"
   ]
  },
  {
   "cell_type": "code",
   "execution_count": 18,
   "id": "56a3bc93-ca2a-491b-b73c-ec22b214b288",
   "metadata": {},
   "outputs": [
    {
     "name": "stdout",
     "output_type": "stream",
     "text": [
      "My name is Krish and age is 32\n"
     ]
    }
   ],
   "source": [
    "## format()\n",
    "name = \"Krish\"\n",
    "age = 32\n",
    "print(\"My name is {} and age is {}\". format( name,age))"
   ]
  },
  {
   "cell_type": "code",
   "execution_count": 19,
   "id": "e05d7c45-0786-41b5-873c-2d9cf1af4118",
   "metadata": {},
   "outputs": [
    {
     "name": "stdout",
     "output_type": "stream",
     "text": [
      "My name is Krish and age is 32\n"
     ]
    }
   ],
   "source": [
    "#placeholder\n",
    "print(\"My name is {firstname} and age is {firstage}\". format(firstname =  name, firstage= age))"
   ]
  },
  {
   "cell_type": "code",
   "execution_count": 21,
   "id": "7e0000d2-20b7-42f3-917d-9e95b23e6716",
   "metadata": {},
   "outputs": [],
   "source": [
    "degree =  \"BE\""
   ]
  },
  {
   "cell_type": "code",
   "execution_count": 22,
   "id": "489bf453-8076-4426-b41e-87771eeb92d6",
   "metadata": {},
   "outputs": [
    {
     "name": "stdout",
     "output_type": "stream",
     "text": [
      "My name is Krish and age is 32 and degree is BE\n"
     ]
    }
   ],
   "source": [
    "#placeholder\n",
    "print(\"My name is {firstname} and age is {firstage} and degree is {firstdegree}\". format(firstname =  name, firstage= age, firstdegree = degree))"
   ]
  },
  {
   "cell_type": "code",
   "execution_count": 24,
   "id": "1c528517-c3a9-45d5-b357-c37f87a90c65",
   "metadata": {},
   "outputs": [
    {
     "name": "stdout",
     "output_type": "stream",
     "text": [
      "My name is Krish and age is 32 and degree is BE\n"
     ]
    }
   ],
   "source": [
    "#fstring\n",
    "print(f\"My name is {name} and age is {age} and degree is {degree}\")"
   ]
  },
  {
   "cell_type": "markdown",
   "id": "31a70a77-a836-4621-a17d-b37f8d0f456b",
   "metadata": {},
   "source": [
    "## Control flow\n",
    "### Decision Making Statements\n",
    "1. if\n",
    "2. elif\n",
    "3. if else\n",
    "4. Nested if\n",
    "5. Single statement Suites"
   ]
  },
  {
   "cell_type": "code",
   "execution_count": 25,
   "id": "c0f3d1a1-bea1-41f3-bef6-fe9f1b0de17e",
   "metadata": {},
   "outputs": [
    {
     "name": "stdout",
     "output_type": "stream",
     "text": [
      "You are eligible to vote\n"
     ]
    }
   ],
   "source": [
    "# If statements\n",
    "age = 18\n",
    "if age >= 18:\n",
    "    print(\"You are eligible to vote\")"
   ]
  },
  {
   "cell_type": "code",
   "execution_count": 31,
   "id": "fa156226-5037-4e7b-a968-3847bbdeb9ca",
   "metadata": {},
   "outputs": [
    {
     "name": "stdin",
     "output_type": "stream",
     "text": [
      " 32\n"
     ]
    },
    {
     "name": "stdout",
     "output_type": "stream",
     "text": [
      "You are young blood\n"
     ]
    }
   ],
   "source": [
    "age1 = int(input())\n",
    "if age1>= 18 and age1 <= 45:\n",
    "    print(\"You are young blood\")\n",
    "    "
   ]
  },
  {
   "cell_type": "code",
   "execution_count": 27,
   "id": "440aa270-e455-45b6-b8fe-b1cecfed3ff7",
   "metadata": {},
   "outputs": [
    {
     "name": "stdin",
     "output_type": "stream",
     "text": [
      "Enter the age 34\n"
     ]
    },
    {
     "name": "stdout",
     "output_type": "stream",
     "text": [
      "You are young\n"
     ]
    }
   ],
   "source": [
    "age1 = int(input(\"Enter the age\"))\n",
    "if age1>= 18 and age1 <= 45:\n",
    "    print(\"You are young\")"
   ]
  },
  {
   "cell_type": "code",
   "execution_count": 33,
   "id": "0281024f-f7f9-47e9-a314-7bd13dfe0a2a",
   "metadata": {},
   "outputs": [
    {
     "name": "stdin",
     "output_type": "stream",
     "text": [
      "Enter the age 65\n"
     ]
    },
    {
     "name": "stdout",
     "output_type": "stream",
     "text": [
      "Thank you, we will let you know\n"
     ]
    }
   ],
   "source": [
    "# If else statements\n",
    "age1 = int(input(\"Enter the age\"))\n",
    "if age1>= 18 and age1 <= 45:\n",
    "    print(\"You are young blood\")\n",
    "else:\n",
    "    print(\"Thank you, we will let you know\")"
   ]
  },
  {
   "cell_type": "code",
   "execution_count": 42,
   "id": "1c0f37d1-bb0b-43ee-ac5a-27c5d9c6e79a",
   "metadata": {},
   "outputs": [
    {
     "name": "stdin",
     "output_type": "stream",
     "text": [
      "Enter the price 5000\n"
     ]
    },
    {
     "name": "stdout",
     "output_type": "stream",
     "text": [
      "You get 10% off on 5000\n",
      "You pay 4500\n"
     ]
    }
   ],
   "source": [
    "# If else statements\n",
    "price = int(input('Enter the price'))\n",
    "if price > 1000:\n",
    "    print(\"You get 10% off on\",price)\n",
    "    discounted_price = price*(1-0.1)  \n",
    "    print(\"You pay\",int(discounted_price))\n",
    "else:\n",
    "    print(\"You get 30% off\", price)\n",
    "    discounted_price = price*(1-0.3) \n",
    "    print(\"You pay\",int(discounted_price))\n"
   ]
  },
  {
   "cell_type": "code",
   "execution_count": 44,
   "id": "8d207e8a-4ad3-482b-b472-34ba117760bc",
   "metadata": {},
   "outputs": [
    {
     "name": "stdin",
     "output_type": "stream",
     "text": [
      "Enter the price 30\n"
     ]
    },
    {
     "name": "stdout",
     "output_type": "stream",
     "text": [
      "You get 40% off 30\n",
      "You pay 18\n"
     ]
    }
   ],
   "source": [
    "# If elif else statements\n",
    "price = int(input('Enter the price'))\n",
    "if price > 3000:\n",
    "    print(\"You get 20% off on\",price)\n",
    "    discounted_price = price*(1-0.2)  \n",
    "    print(\"You pay\",int(discounted_price))\n",
    "elif price >=2000 and price <= 3000:\n",
    "    print(\"You get 30% off\", price)\n",
    "    discounted_price = price*(1-0.3) \n",
    "    print(\"You pay\",int(discounted_price))\n",
    "else:\n",
    "    print(\"You get 40% off\", price)\n",
    "    discounted_price = price*(1-0.4) \n",
    "    print(\"You pay\",int(discounted_price))"
   ]
  },
  {
   "cell_type": "code",
   "execution_count": 45,
   "id": "ee8575bf-e59c-416e-b37b-368d6f14df53",
   "metadata": {},
   "outputs": [
    {
     "name": "stdin",
     "output_type": "stream",
     "text": [
      "Enter the price 4565\n"
     ]
    },
    {
     "name": "stdout",
     "output_type": "stream",
     "text": [
      "You get 20% off on 4565\n",
      "You pay 3652\n"
     ]
    }
   ],
   "source": [
    "price = int(input('Enter the price'))\n",
    "if price > 3000:\n",
    "    print(\"You get 20% off on\",price)\n",
    "    discounted_price = price*(1-0.2)  \n",
    "    print(\"You pay\",int(discounted_price))\n",
    "elif price >=2000 and price <= 3000:\n",
    "    print(\"You get 30% off\", price)\n",
    "    discounted_price = price*(1-0.3) \n",
    "    print(\"You pay\",int(discounted_price))\n",
    "elif price >=100 and price <= 2000:\n",
    "    print(\"You get 40% off\", price)\n",
    "    discounted_price = price*(1-0.4) \n",
    "    print(\"You pay\",int(discounted_price))\n",
    "else:\n",
    "    print(\"Lets have tea\")"
   ]
  },
  {
   "cell_type": "code",
   "execution_count": 48,
   "id": "12c663e5-64d2-404e-abe9-2a77dbc6e4d6",
   "metadata": {},
   "outputs": [
    {
     "name": "stdin",
     "output_type": "stream",
     "text": [
      "Enter the price 2999\n"
     ]
    },
    {
     "name": "stdout",
     "output_type": "stream",
     "text": [
      "Congratulations, you get an additional gift, a suitcase and also\n",
      "You get 30% off 2999\n",
      "You pay 2099\n"
     ]
    }
   ],
   "source": [
    "price = int(input('Enter the price'))\n",
    "if price > 3000:\n",
    "    print(\"You get 20% off on\",price)\n",
    "    discounted_price = price*(1-0.2)  \n",
    "    print(\"You pay\",int(discounted_price))\n",
    "elif price >=2000 and price <= 3000:\n",
    "    if price == 2999:\n",
    "        print(\"Congratulations, you get an additional gift, a suitcase and also\")\n",
    "    print(\"You get 30% off\", price)\n",
    "    discounted_price = price*(1-0.3) \n",
    "    print(\"You pay\",int(discounted_price))\n",
    "elif price >=100 and price <= 2000:\n",
    "    print(\"You get 40% off\", price)\n",
    "    discounted_price = price*(1-0.4) \n",
    "    print(\"You pay\",int(discounted_price))\n",
    "else:\n",
    "    print(\"Lets have tea\")"
   ]
  },
  {
   "cell_type": "code",
   "execution_count": 50,
   "id": "756dfb11-ef86-41c2-ac8a-0a0a70995b12",
   "metadata": {},
   "outputs": [
    {
     "name": "stdin",
     "output_type": "stream",
     "text": [
      "Enter the number 33\n"
     ]
    },
    {
     "name": "stdout",
     "output_type": "stream",
     "text": [
      "Value is less than 999\n"
     ]
    }
   ],
   "source": [
    "##Single statements suites\n",
    "val = int(input(\"Enter the number\"))\n",
    "if(val <= 999): print('Value is less than 999')\n",
    "else:\n",
    "    print(\"Go Home\")"
   ]
  },
  {
   "cell_type": "markdown",
   "id": "9c52df1d-2c4f-4323-90ee-d4594c2b6006",
   "metadata": {},
   "source": [
    "## Loop Statements\n",
    "1. While loop\n",
    "2. For loop\n",
    "3. Nested loops\n",
    "4. Loop control(break, continue, pass)"
   ]
  },
  {
   "cell_type": "code",
   "execution_count": 1,
   "id": "456f8ac1-b15c-43e6-af2e-4659d2d6c773",
   "metadata": {},
   "outputs": [
    {
     "name": "stdout",
     "output_type": "stream",
     "text": [
      "56\n",
      "57\n",
      "58\n",
      "59\n",
      "60\n",
      "61\n",
      "Sorry its time to retire\n"
     ]
    }
   ],
   "source": [
    "# while loop\n",
    "joining_age = 55\n",
    "while joining_age<=60:\n",
    "    joining_age = joining_age + 1\n",
    "    print(joining_age)\n",
    "else:\n",
    "    print(\"Sorry its time to retire\")"
   ]
  },
  {
   "cell_type": "code",
   "execution_count": 1,
   "id": "7cc7a20b-f13b-4aee-8e3c-22641bd3181d",
   "metadata": {},
   "outputs": [],
   "source": [
    "## Atm machine "
   ]
  },
  {
   "cell_type": "code",
   "execution_count": 3,
   "id": "ee9e732d-8a53-42bc-9c7d-94e858e0641c",
   "metadata": {},
   "outputs": [
    {
     "name": "stdout",
     "output_type": "stream",
     "text": [
      "1000\n",
      "900\n",
      "800\n",
      "700\n",
      "600\n",
      "500\n",
      "400\n",
      "300\n",
      "200\n",
      "100\n",
      "Put more money\n"
     ]
    }
   ],
   "source": [
    "total_amount = 1000\n",
    "while total_amount != 0:\n",
    "    print(total_amount)\n",
    "    total_amount = total_amount-100\n",
    "else:\n",
    "    print(\"Put more money\")"
   ]
  },
  {
   "cell_type": "markdown",
   "id": "3e677c73-8c05-429b-abea-1c8aa5a21b45",
   "metadata": {},
   "source": [
    "## For Loop"
   ]
  },
  {
   "cell_type": "code",
   "execution_count": 4,
   "id": "8ef7e3af-e2c3-4d02-929d-93ffbea79018",
   "metadata": {},
   "outputs": [
    {
     "data": {
      "text/plain": [
       "['Krish', 1, 2, 3, 4, 5, 6]"
      ]
     },
     "execution_count": 4,
     "metadata": {},
     "output_type": "execute_result"
    }
   ],
   "source": [
    "lst = [\"Krish\", 1,2 ,3 ,4,5,6]\n",
    "lst"
   ]
  },
  {
   "cell_type": "code",
   "execution_count": 5,
   "id": "c4ccfc50-40ab-454c-b948-549c7ad899fa",
   "metadata": {},
   "outputs": [
    {
     "name": "stdout",
     "output_type": "stream",
     "text": [
      "Krish\n",
      "1\n",
      "2\n",
      "3\n",
      "4\n",
      "5\n",
      "6\n"
     ]
    }
   ],
   "source": [
    "for i in lst:\n",
    "    print(i)"
   ]
  },
  {
   "cell_type": "code",
   "execution_count": 6,
   "id": "f906b0c4-cc29-43e2-962c-a81d8ef3fb8b",
   "metadata": {},
   "outputs": [
    {
     "data": {
      "text/plain": [
       "['Mango', 'Cherry', 'Litchi', 'Pineaaple']"
      ]
     },
     "execution_count": 6,
     "metadata": {},
     "output_type": "execute_result"
    }
   ],
   "source": [
    "fruits_list = [\"Mango\", \"Cherry\", \"Litchi\", \"Pineaaple\"]\n",
    "fruits_list"
   ]
  },
  {
   "cell_type": "code",
   "execution_count": 9,
   "id": "34f3526f-cf2c-4506-9a5b-ceb8cf337c3a",
   "metadata": {},
   "outputs": [
    {
     "name": "stdout",
     "output_type": "stream",
     "text": [
      "Mango\n",
      "Cherry\n",
      "The fruit is cherry\n",
      "Litchi\n",
      "Pineaaple\n"
     ]
    }
   ],
   "source": [
    "for i in fruits_list:\n",
    "    print(i)\n",
    "    if i == \"Cherry\":\n",
    "        print(\"The fruit is cherry\")"
   ]
  },
  {
   "cell_type": "code",
   "execution_count": 10,
   "id": "5f23d857-6ce6-4ec4-ba1f-8619ac38864c",
   "metadata": {},
   "outputs": [
    {
     "name": "stdout",
     "output_type": "stream",
     "text": [
      "M\n",
      "a\n",
      "n\n",
      "g\n",
      "o\n"
     ]
    }
   ],
   "source": [
    "fruit = \"Mango\"\n",
    "for i in fruit:\n",
    "    print(i)"
   ]
  },
  {
   "cell_type": "code",
   "execution_count": 13,
   "id": "e1b18d5a-f17f-4d11-83a0-bdfe922cd230",
   "metadata": {},
   "outputs": [
    {
     "data": {
      "text/plain": [
       "'n'"
      ]
     },
     "execution_count": 13,
     "metadata": {},
     "output_type": "execute_result"
    }
   ],
   "source": [
    "fruit[2]"
   ]
  },
  {
   "cell_type": "code",
   "execution_count": 14,
   "id": "a086ab6c-2339-4064-a721-701f504254f0",
   "metadata": {},
   "outputs": [
    {
     "name": "stdout",
     "output_type": "stream",
     "text": [
      "Mango"
     ]
    }
   ],
   "source": [
    "fruit = \"Mango\"\n",
    "for i in fruit:\n",
    "    print(i, end='')"
   ]
  },
  {
   "cell_type": "code",
   "execution_count": null,
   "id": "7a5eb8d7-a408-4c1d-82af-862b6f7000f1",
   "metadata": {},
   "outputs": [],
   "source": []
  },
  {
   "cell_type": "code",
   "execution_count": 15,
   "id": "6ff03b38-6685-4b7e-b481-0fa565be5837",
   "metadata": {},
   "outputs": [
    {
     "name": "stdout",
     "output_type": "stream",
     "text": [
      "1\n",
      "2\n",
      "3\n",
      "4\n",
      "5\n"
     ]
    }
   ],
   "source": [
    "for i in range(1,6):\n",
    "    print(i)"
   ]
  },
  {
   "cell_type": "code",
   "execution_count": 16,
   "id": "6ffec4d2-59d0-4f0a-8035-601fe18ae8a5",
   "metadata": {},
   "outputs": [
    {
     "name": "stdout",
     "output_type": "stream",
     "text": [
      "1\n",
      "3\n",
      "5\n"
     ]
    }
   ],
   "source": [
    "for i in range(1,6,2):\n",
    "    print(i)"
   ]
  },
  {
   "cell_type": "code",
   "execution_count": 18,
   "id": "a023b061-eff4-4eb5-b358-4998beb1c17b",
   "metadata": {},
   "outputs": [
    {
     "name": "stdout",
     "output_type": "stream",
     "text": [
      "*\n",
      "**\n",
      "***\n",
      "****\n",
      "*****\n",
      "******\n",
      "*******\n"
     ]
    }
   ],
   "source": [
    "##Nested Loops\n",
    "n=7\n",
    "for i in range (0,n):\n",
    "    for j in range(0, i+1):\n",
    "        print(\"*\", end = \"\")\n",
    "    print(\"\\r\") ##\\r means move to extreme left, from where it started"
   ]
  },
  {
   "cell_type": "code",
   "execution_count": 19,
   "id": "ae31b883-2b4e-4182-b46f-21bf5de1d362",
   "metadata": {},
   "outputs": [
    {
     "name": "stdout",
     "output_type": "stream",
     "text": [
      "*\n",
      "\n",
      "**\n",
      "\n",
      "***\n",
      "\n",
      "****\n",
      "\n",
      "*****\n",
      "\n",
      "******\n",
      "\n",
      "*******\n",
      "\n"
     ]
    }
   ],
   "source": [
    "##Nested Loops\n",
    "n=7\n",
    "for i in range (0,n):\n",
    "    for j in range(0, i+1):\n",
    "        print(\"*\", end = \"\")\n",
    "    print(\"\\n\") ##\\n means newline"
   ]
  },
  {
   "cell_type": "markdown",
   "id": "48dd69e9-dfa7-4a62-800b-905849b100f2",
   "metadata": {},
   "source": [
    "## Loop Control\n",
    "1. Break\n",
    "2. Continue"
   ]
  },
  {
   "cell_type": "code",
   "execution_count": 22,
   "id": "f07a61a3-63b8-408f-b4b1-7d10cf89b82f",
   "metadata": {},
   "outputs": [
    {
     "data": {
      "text/plain": [
       "['Mango', 'Cherry', 'Apple', 'Litchi', 'Pineaaple']"
      ]
     },
     "execution_count": 22,
     "metadata": {},
     "output_type": "execute_result"
    }
   ],
   "source": [
    "fruits_list = [\"Mango\", \"Cherry\",\"Apple\", \"Litchi\", \"Pineaaple\"]\n",
    "fruits_list"
   ]
  },
  {
   "cell_type": "code",
   "execution_count": 25,
   "id": "9e6e40a7-cd11-4d41-b107-e6f57c207516",
   "metadata": {},
   "outputs": [
    {
     "name": "stdout",
     "output_type": "stream",
     "text": [
      "Mango\n",
      "Cherry\n",
      "The fruit is Apple\n",
      "Apple\n",
      "Litchi\n",
      "Pineaaple\n"
     ]
    }
   ],
   "source": [
    "for i in fruits_list:\n",
    "    if i == \"Apple\":\n",
    "        print(\"The fruit is Apple\")\n",
    "    print(i)"
   ]
  },
  {
   "cell_type": "code",
   "execution_count": 23,
   "id": "d011421b-06f9-4229-904f-7d01c6a19615",
   "metadata": {},
   "outputs": [
    {
     "name": "stdout",
     "output_type": "stream",
     "text": [
      "Mango\n",
      "Cherry\n",
      "The fruit is Apple\n"
     ]
    }
   ],
   "source": [
    "for i in fruits_list:\n",
    "    if i == \"Apple\":\n",
    "        print(\"The fruit is Apple\")\n",
    "        break\n",
    "    print(i)"
   ]
  },
  {
   "cell_type": "code",
   "execution_count": 24,
   "id": "ebe361b9-0db6-4624-85bf-19ebd8d57800",
   "metadata": {},
   "outputs": [
    {
     "name": "stdout",
     "output_type": "stream",
     "text": [
      "Mango\n",
      "Cherry\n",
      "The fruit is Apple\n",
      "Litchi\n",
      "Pineaaple\n"
     ]
    }
   ],
   "source": [
    "for i in fruits_list:\n",
    "    if i == \"Apple\":\n",
    "        print(\"The fruit is Apple\")\n",
    "        continue\n",
    "    print(i)"
   ]
  },
  {
   "cell_type": "code",
   "execution_count": 26,
   "id": "85829eaa-746a-4d7e-b892-74e021a61042",
   "metadata": {},
   "outputs": [
    {
     "name": "stdout",
     "output_type": "stream",
     "text": [
      "Mango\n",
      "Cherry\n",
      "The fruit is Apple\n",
      "Apple\n",
      "Litchi\n",
      "Pineaaple\n"
     ]
    }
   ],
   "source": [
    "for i in fruits_list:\n",
    "    if i == \"Apple\":\n",
    "        print(\"The fruit is Apple\")\n",
    "        pass\n",
    "    print(i)"
   ]
  },
  {
   "cell_type": "code",
   "execution_count": null,
   "id": "d7eb07f8-f6b8-4b2a-a2f6-689717c19544",
   "metadata": {},
   "outputs": [],
   "source": []
  }
 ],
 "metadata": {
  "kernelspec": {
   "display_name": "Python 3 (ipykernel)",
   "language": "python",
   "name": "python3"
  },
  "language_info": {
   "codemirror_mode": {
    "name": "ipython",
    "version": 3
   },
   "file_extension": ".py",
   "mimetype": "text/x-python",
   "name": "python",
   "nbconvert_exporter": "python",
   "pygments_lexer": "ipython3",
   "version": "3.10.8"
  }
 },
 "nbformat": 4,
 "nbformat_minor": 5
}
